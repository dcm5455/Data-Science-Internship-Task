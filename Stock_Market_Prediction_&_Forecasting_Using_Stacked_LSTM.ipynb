{
  "nbformat": 4,
  "nbformat_minor": 0,
  "metadata": {
    "colab": {
      "name": "Stock Market Prediction & Forecasting Using  Stacked LSTM",
      "provenance": [],
      "authorship_tag": "ABX9TyMfm/8giWyjGcFHRWiMIWVM",
      "include_colab_link": true
    },
    "kernelspec": {
      "name": "python3",
      "display_name": "Python 3"
    },
    "language_info": {
      "name": "python"
    }
  },
  "cells": [
    {
      "cell_type": "markdown",
      "metadata": {
        "id": "view-in-github",
        "colab_type": "text"
      },
      "source": [
        "<a href=\"https://colab.research.google.com/github/dcm5455/dcm5455/blob/main/Stock_Market_Prediction_%26_Forecasting_Using_Stacked_LSTM.ipynb\" target=\"_parent\"><img src=\"https://colab.research.google.com/assets/colab-badge.svg\" alt=\"Open In Colab\"/></a>"
      ]
    },
    {
      "cell_type": "markdown",
      "metadata": {
        "id": "_jAHvF2W-YHA"
      },
      "source": [
        "Importing Libraies"
      ]
    },
    {
      "cell_type": "markdown",
      "metadata": {
        "id": "dfU8_9KD9xMs"
      },
      "source": [
        "# **LETS GROW MORE**\n",
        "Task 2:- Stock Market Prediction & Forecasting using Stacked LSTM (BeginnerLevel)\n",
        "\n",
        "Author : Dhruvil Patel"
      ]
    },
    {
      "cell_type": "code",
      "metadata": {
        "id": "y8Abz-_Uj3L8"
      },
      "source": [
        "import numpy as np\n",
        "import matplotlib.pyplot as plt\n",
        "import pandas as pd\n",
        "import pandas_datareader as pdr\n",
        "key=\"\"\n",
        "from sklearn.preprocessing import MinMaxScaler\n",
        "from keras.models import Sequential\n",
        "from keras.layers import Dense\n",
        "from keras.layers import LSTM\n",
        "from keras.layers import Dropout"
      ],
      "execution_count": null,
      "outputs": []
    },
    {
      "cell_type": "markdown",
      "metadata": {
        "id": "kXYdRH_a_mN5"
      },
      "source": [
        "Loading Data"
      ]
    },
    {
      "cell_type": "code",
      "metadata": {
        "colab": {
          "base_uri": "https://localhost:8080/",
          "height": 204
        },
        "id": "eLA0-22j_lcM",
        "outputId": "c5e59296-61be-49e3-8890-20f8e2c4b6fe"
      },
      "source": [
        "data= pd.read_csv('NSE-TATAGLOBAL.csv')\n",
        "data.head()"
      ],
      "execution_count": null,
      "outputs": [
        {
          "output_type": "execute_result",
          "data": {
            "text/html": [
              "<div>\n",
              "<style scoped>\n",
              "    .dataframe tbody tr th:only-of-type {\n",
              "        vertical-align: middle;\n",
              "    }\n",
              "\n",
              "    .dataframe tbody tr th {\n",
              "        vertical-align: top;\n",
              "    }\n",
              "\n",
              "    .dataframe thead th {\n",
              "        text-align: right;\n",
              "    }\n",
              "</style>\n",
              "<table border=\"1\" class=\"dataframe\">\n",
              "  <thead>\n",
              "    <tr style=\"text-align: right;\">\n",
              "      <th></th>\n",
              "      <th>Date</th>\n",
              "      <th>Open</th>\n",
              "      <th>High</th>\n",
              "      <th>Low</th>\n",
              "      <th>Last</th>\n",
              "      <th>Close</th>\n",
              "      <th>Total Trade Quantity</th>\n",
              "      <th>Turnover (Lacs)</th>\n",
              "    </tr>\n",
              "  </thead>\n",
              "  <tbody>\n",
              "    <tr>\n",
              "      <th>0</th>\n",
              "      <td>2018-09-28</td>\n",
              "      <td>234.05</td>\n",
              "      <td>235.95</td>\n",
              "      <td>230.20</td>\n",
              "      <td>233.50</td>\n",
              "      <td>233.75</td>\n",
              "      <td>3069914</td>\n",
              "      <td>7162.35</td>\n",
              "    </tr>\n",
              "    <tr>\n",
              "      <th>1</th>\n",
              "      <td>2018-09-27</td>\n",
              "      <td>234.55</td>\n",
              "      <td>236.80</td>\n",
              "      <td>231.10</td>\n",
              "      <td>233.80</td>\n",
              "      <td>233.25</td>\n",
              "      <td>5082859</td>\n",
              "      <td>11859.95</td>\n",
              "    </tr>\n",
              "    <tr>\n",
              "      <th>2</th>\n",
              "      <td>2018-09-26</td>\n",
              "      <td>240.00</td>\n",
              "      <td>240.00</td>\n",
              "      <td>232.50</td>\n",
              "      <td>235.00</td>\n",
              "      <td>234.25</td>\n",
              "      <td>2240909</td>\n",
              "      <td>5248.60</td>\n",
              "    </tr>\n",
              "    <tr>\n",
              "      <th>3</th>\n",
              "      <td>2018-09-25</td>\n",
              "      <td>233.30</td>\n",
              "      <td>236.75</td>\n",
              "      <td>232.00</td>\n",
              "      <td>236.25</td>\n",
              "      <td>236.10</td>\n",
              "      <td>2349368</td>\n",
              "      <td>5503.90</td>\n",
              "    </tr>\n",
              "    <tr>\n",
              "      <th>4</th>\n",
              "      <td>2018-09-24</td>\n",
              "      <td>233.55</td>\n",
              "      <td>239.20</td>\n",
              "      <td>230.75</td>\n",
              "      <td>234.00</td>\n",
              "      <td>233.30</td>\n",
              "      <td>3423509</td>\n",
              "      <td>7999.55</td>\n",
              "    </tr>\n",
              "  </tbody>\n",
              "</table>\n",
              "</div>"
            ],
            "text/plain": [
              "         Date    Open    High  ...   Close  Total Trade Quantity  Turnover (Lacs)\n",
              "0  2018-09-28  234.05  235.95  ...  233.75               3069914          7162.35\n",
              "1  2018-09-27  234.55  236.80  ...  233.25               5082859         11859.95\n",
              "2  2018-09-26  240.00  240.00  ...  234.25               2240909          5248.60\n",
              "3  2018-09-25  233.30  236.75  ...  236.10               2349368          5503.90\n",
              "4  2018-09-24  233.55  239.20  ...  233.30               3423509          7999.55\n",
              "\n",
              "[5 rows x 8 columns]"
            ]
          },
          "metadata": {},
          "execution_count": 13
        }
      ]
    },
    {
      "cell_type": "code",
      "metadata": {
        "colab": {
          "base_uri": "https://localhost:8080/",
          "height": 204
        },
        "id": "EOPxl_o9ApFv",
        "outputId": "f7cd77d5-fe52-443f-f2d5-c1f07b06425d"
      },
      "source": [
        "data.tail()"
      ],
      "execution_count": null,
      "outputs": [
        {
          "output_type": "execute_result",
          "data": {
            "text/html": [
              "<div>\n",
              "<style scoped>\n",
              "    .dataframe tbody tr th:only-of-type {\n",
              "        vertical-align: middle;\n",
              "    }\n",
              "\n",
              "    .dataframe tbody tr th {\n",
              "        vertical-align: top;\n",
              "    }\n",
              "\n",
              "    .dataframe thead th {\n",
              "        text-align: right;\n",
              "    }\n",
              "</style>\n",
              "<table border=\"1\" class=\"dataframe\">\n",
              "  <thead>\n",
              "    <tr style=\"text-align: right;\">\n",
              "      <th></th>\n",
              "      <th>Date</th>\n",
              "      <th>Open</th>\n",
              "      <th>High</th>\n",
              "      <th>Low</th>\n",
              "      <th>Last</th>\n",
              "      <th>Close</th>\n",
              "      <th>Total Trade Quantity</th>\n",
              "      <th>Turnover (Lacs)</th>\n",
              "    </tr>\n",
              "  </thead>\n",
              "  <tbody>\n",
              "    <tr>\n",
              "      <th>2030</th>\n",
              "      <td>2010-07-27</td>\n",
              "      <td>117.6</td>\n",
              "      <td>119.50</td>\n",
              "      <td>112.00</td>\n",
              "      <td>118.80</td>\n",
              "      <td>118.65</td>\n",
              "      <td>586100</td>\n",
              "      <td>694.98</td>\n",
              "    </tr>\n",
              "    <tr>\n",
              "      <th>2031</th>\n",
              "      <td>2010-07-26</td>\n",
              "      <td>120.1</td>\n",
              "      <td>121.00</td>\n",
              "      <td>117.10</td>\n",
              "      <td>117.10</td>\n",
              "      <td>117.60</td>\n",
              "      <td>658440</td>\n",
              "      <td>780.01</td>\n",
              "    </tr>\n",
              "    <tr>\n",
              "      <th>2032</th>\n",
              "      <td>2010-07-23</td>\n",
              "      <td>121.8</td>\n",
              "      <td>121.95</td>\n",
              "      <td>120.25</td>\n",
              "      <td>120.35</td>\n",
              "      <td>120.65</td>\n",
              "      <td>281312</td>\n",
              "      <td>340.31</td>\n",
              "    </tr>\n",
              "    <tr>\n",
              "      <th>2033</th>\n",
              "      <td>2010-07-22</td>\n",
              "      <td>120.3</td>\n",
              "      <td>122.00</td>\n",
              "      <td>120.25</td>\n",
              "      <td>120.75</td>\n",
              "      <td>120.90</td>\n",
              "      <td>293312</td>\n",
              "      <td>355.17</td>\n",
              "    </tr>\n",
              "    <tr>\n",
              "      <th>2034</th>\n",
              "      <td>2010-07-21</td>\n",
              "      <td>122.1</td>\n",
              "      <td>123.00</td>\n",
              "      <td>121.05</td>\n",
              "      <td>121.10</td>\n",
              "      <td>121.55</td>\n",
              "      <td>658666</td>\n",
              "      <td>803.56</td>\n",
              "    </tr>\n",
              "  </tbody>\n",
              "</table>\n",
              "</div>"
            ],
            "text/plain": [
              "            Date   Open    High  ...   Close  Total Trade Quantity  Turnover (Lacs)\n",
              "2030  2010-07-27  117.6  119.50  ...  118.65                586100           694.98\n",
              "2031  2010-07-26  120.1  121.00  ...  117.60                658440           780.01\n",
              "2032  2010-07-23  121.8  121.95  ...  120.65                281312           340.31\n",
              "2033  2010-07-22  120.3  122.00  ...  120.90                293312           355.17\n",
              "2034  2010-07-21  122.1  123.00  ...  121.55                658666           803.56\n",
              "\n",
              "[5 rows x 8 columns]"
            ]
          },
          "metadata": {},
          "execution_count": 14
        }
      ]
    },
    {
      "cell_type": "code",
      "metadata": {
        "colab": {
          "base_uri": "https://localhost:8080/",
          "height": 419
        },
        "id": "Pd3MPi6hIvrq",
        "outputId": "91947dfa-34e7-4933-c6a9-1a3cec55db79"
      },
      "source": [
        "data.isnull()"
      ],
      "execution_count": null,
      "outputs": [
        {
          "output_type": "execute_result",
          "data": {
            "text/html": [
              "<div>\n",
              "<style scoped>\n",
              "    .dataframe tbody tr th:only-of-type {\n",
              "        vertical-align: middle;\n",
              "    }\n",
              "\n",
              "    .dataframe tbody tr th {\n",
              "        vertical-align: top;\n",
              "    }\n",
              "\n",
              "    .dataframe thead th {\n",
              "        text-align: right;\n",
              "    }\n",
              "</style>\n",
              "<table border=\"1\" class=\"dataframe\">\n",
              "  <thead>\n",
              "    <tr style=\"text-align: right;\">\n",
              "      <th></th>\n",
              "      <th>Date</th>\n",
              "      <th>Open</th>\n",
              "      <th>High</th>\n",
              "      <th>Low</th>\n",
              "      <th>Last</th>\n",
              "      <th>Close</th>\n",
              "      <th>Total Trade Quantity</th>\n",
              "      <th>Turnover (Lacs)</th>\n",
              "    </tr>\n",
              "  </thead>\n",
              "  <tbody>\n",
              "    <tr>\n",
              "      <th>0</th>\n",
              "      <td>False</td>\n",
              "      <td>False</td>\n",
              "      <td>False</td>\n",
              "      <td>False</td>\n",
              "      <td>False</td>\n",
              "      <td>False</td>\n",
              "      <td>False</td>\n",
              "      <td>False</td>\n",
              "    </tr>\n",
              "    <tr>\n",
              "      <th>1</th>\n",
              "      <td>False</td>\n",
              "      <td>False</td>\n",
              "      <td>False</td>\n",
              "      <td>False</td>\n",
              "      <td>False</td>\n",
              "      <td>False</td>\n",
              "      <td>False</td>\n",
              "      <td>False</td>\n",
              "    </tr>\n",
              "    <tr>\n",
              "      <th>2</th>\n",
              "      <td>False</td>\n",
              "      <td>False</td>\n",
              "      <td>False</td>\n",
              "      <td>False</td>\n",
              "      <td>False</td>\n",
              "      <td>False</td>\n",
              "      <td>False</td>\n",
              "      <td>False</td>\n",
              "    </tr>\n",
              "    <tr>\n",
              "      <th>3</th>\n",
              "      <td>False</td>\n",
              "      <td>False</td>\n",
              "      <td>False</td>\n",
              "      <td>False</td>\n",
              "      <td>False</td>\n",
              "      <td>False</td>\n",
              "      <td>False</td>\n",
              "      <td>False</td>\n",
              "    </tr>\n",
              "    <tr>\n",
              "      <th>4</th>\n",
              "      <td>False</td>\n",
              "      <td>False</td>\n",
              "      <td>False</td>\n",
              "      <td>False</td>\n",
              "      <td>False</td>\n",
              "      <td>False</td>\n",
              "      <td>False</td>\n",
              "      <td>False</td>\n",
              "    </tr>\n",
              "    <tr>\n",
              "      <th>...</th>\n",
              "      <td>...</td>\n",
              "      <td>...</td>\n",
              "      <td>...</td>\n",
              "      <td>...</td>\n",
              "      <td>...</td>\n",
              "      <td>...</td>\n",
              "      <td>...</td>\n",
              "      <td>...</td>\n",
              "    </tr>\n",
              "    <tr>\n",
              "      <th>2030</th>\n",
              "      <td>False</td>\n",
              "      <td>False</td>\n",
              "      <td>False</td>\n",
              "      <td>False</td>\n",
              "      <td>False</td>\n",
              "      <td>False</td>\n",
              "      <td>False</td>\n",
              "      <td>False</td>\n",
              "    </tr>\n",
              "    <tr>\n",
              "      <th>2031</th>\n",
              "      <td>False</td>\n",
              "      <td>False</td>\n",
              "      <td>False</td>\n",
              "      <td>False</td>\n",
              "      <td>False</td>\n",
              "      <td>False</td>\n",
              "      <td>False</td>\n",
              "      <td>False</td>\n",
              "    </tr>\n",
              "    <tr>\n",
              "      <th>2032</th>\n",
              "      <td>False</td>\n",
              "      <td>False</td>\n",
              "      <td>False</td>\n",
              "      <td>False</td>\n",
              "      <td>False</td>\n",
              "      <td>False</td>\n",
              "      <td>False</td>\n",
              "      <td>False</td>\n",
              "    </tr>\n",
              "    <tr>\n",
              "      <th>2033</th>\n",
              "      <td>False</td>\n",
              "      <td>False</td>\n",
              "      <td>False</td>\n",
              "      <td>False</td>\n",
              "      <td>False</td>\n",
              "      <td>False</td>\n",
              "      <td>False</td>\n",
              "      <td>False</td>\n",
              "    </tr>\n",
              "    <tr>\n",
              "      <th>2034</th>\n",
              "      <td>False</td>\n",
              "      <td>False</td>\n",
              "      <td>False</td>\n",
              "      <td>False</td>\n",
              "      <td>False</td>\n",
              "      <td>False</td>\n",
              "      <td>False</td>\n",
              "      <td>False</td>\n",
              "    </tr>\n",
              "  </tbody>\n",
              "</table>\n",
              "<p>2035 rows × 8 columns</p>\n",
              "</div>"
            ],
            "text/plain": [
              "       Date   Open   High  ...  Close  Total Trade Quantity  Turnover (Lacs)\n",
              "0     False  False  False  ...  False                 False            False\n",
              "1     False  False  False  ...  False                 False            False\n",
              "2     False  False  False  ...  False                 False            False\n",
              "3     False  False  False  ...  False                 False            False\n",
              "4     False  False  False  ...  False                 False            False\n",
              "...     ...    ...    ...  ...    ...                   ...              ...\n",
              "2030  False  False  False  ...  False                 False            False\n",
              "2031  False  False  False  ...  False                 False            False\n",
              "2032  False  False  False  ...  False                 False            False\n",
              "2033  False  False  False  ...  False                 False            False\n",
              "2034  False  False  False  ...  False                 False            False\n",
              "\n",
              "[2035 rows x 8 columns]"
            ]
          },
          "metadata": {},
          "execution_count": 15
        }
      ]
    },
    {
      "cell_type": "code",
      "metadata": {
        "colab": {
          "base_uri": "https://localhost:8080/"
        },
        "id": "1uVLj1nRIzSv",
        "outputId": "e97b88be-7db7-4522-ac1a-920700c8ac24"
      },
      "source": [
        "data.isnull().sum()"
      ],
      "execution_count": null,
      "outputs": [
        {
          "output_type": "execute_result",
          "data": {
            "text/plain": [
              "Date                    0\n",
              "Open                    0\n",
              "High                    0\n",
              "Low                     0\n",
              "Last                    0\n",
              "Close                   0\n",
              "Total Trade Quantity    0\n",
              "Turnover (Lacs)         0\n",
              "dtype: int64"
            ]
          },
          "metadata": {},
          "execution_count": 17
        }
      ]
    },
    {
      "cell_type": "code",
      "metadata": {
        "colab": {
          "base_uri": "https://localhost:8080/"
        },
        "id": "sqCYnakNI42B",
        "outputId": "95a1268d-975c-4ae4-a6e7-3f24bbd10be1"
      },
      "source": [
        "data.describe"
      ],
      "execution_count": null,
      "outputs": [
        {
          "output_type": "execute_result",
          "data": {
            "text/plain": [
              "<bound method NDFrame.describe of             Date    Open    High  ...   Close  Total Trade Quantity  Turnover (Lacs)\n",
              "0     2018-09-28  234.05  235.95  ...  233.75               3069914          7162.35\n",
              "1     2018-09-27  234.55  236.80  ...  233.25               5082859         11859.95\n",
              "2     2018-09-26  240.00  240.00  ...  234.25               2240909          5248.60\n",
              "3     2018-09-25  233.30  236.75  ...  236.10               2349368          5503.90\n",
              "4     2018-09-24  233.55  239.20  ...  233.30               3423509          7999.55\n",
              "...          ...     ...     ...  ...     ...                   ...              ...\n",
              "2030  2010-07-27  117.60  119.50  ...  118.65                586100           694.98\n",
              "2031  2010-07-26  120.10  121.00  ...  117.60                658440           780.01\n",
              "2032  2010-07-23  121.80  121.95  ...  120.65                281312           340.31\n",
              "2033  2010-07-22  120.30  122.00  ...  120.90                293312           355.17\n",
              "2034  2010-07-21  122.10  123.00  ...  121.55                658666           803.56\n",
              "\n",
              "[2035 rows x 8 columns]>"
            ]
          },
          "metadata": {},
          "execution_count": 18
        }
      ]
    },
    {
      "cell_type": "markdown",
      "metadata": {
        "id": "BRerVVdMJmwf"
      },
      "source": [
        "Scaling"
      ]
    },
    {
      "cell_type": "code",
      "metadata": {
        "colab": {
          "base_uri": "https://localhost:8080/",
          "height": 282
        },
        "id": "n1tEz04-I-Gb",
        "outputId": "3fb871fb-e4f8-457e-fdf9-2c7ac13419cb"
      },
      "source": [
        "import matplotlib.pyplot as plt\n",
        "plt.plot(training_set_scaled)"
      ],
      "execution_count": null,
      "outputs": [
        {
          "output_type": "execute_result",
          "data": {
            "text/plain": [
              "[<matplotlib.lines.Line2D at 0x7f8cb578ca50>]"
            ]
          },
          "metadata": {},
          "execution_count": 23
        },
        {
          "output_type": "display_data",
          "data": {
            "image/png": "[encoded data removed]",
            "text/plain": [
              "<Figure size 432x288 with 1 Axes>"
            ]
          },
          "metadata": {
            "needs_background": "light"
          }
        }
      ]
    },
    {
      "cell_type": "code",
      "metadata": {
        "colab": {
          "base_uri": "https://localhost:8080/"
        },
        "id": "KCQLsFokLksz",
        "outputId": "0dab4788-3727-4662-aee2-fe59c1ff7a45"
      },
      "source": [
        "import numpy as np\n",
        "training_set_scaled"
      ],
      "execution_count": null,
      "outputs": [
        {
          "output_type": "execute_result",
          "data": {
            "text/plain": [
              "array([[0.6202352 ],\n",
              "       [0.62226277],\n",
              "       [0.64436334],\n",
              "       ...,\n",
              "       [0.16504461],\n",
              "       [0.15896188],\n",
              "       [0.16626115]])"
            ]
          },
          "metadata": {},
          "execution_count": 22
        }
      ]
    },
    {
      "cell_type": "code",
      "metadata": {
        "colab": {
          "base_uri": "https://localhost:8080/"
        },
        "id": "A7FfM-lBI8pZ",
        "outputId": "b4f5c92b-ae1e-474f-ed00-bfb06371bdd2"
      },
      "source": [
        "from sklearn.preprocessing import MinMaxScaler\n",
        "sc = MinMaxScaler(feature_range = (0, 1))\n",
        "training_set = data.iloc[:, 1:2].values\n",
        "training_set_scaled = sc.fit_transform(training_set)\n",
        "print(training_set)"
      ],
      "execution_count": null,
      "outputs": [
        {
          "output_type": "stream",
          "text": [
            "[[234.05]\n",
            " [234.55]\n",
            " [240.  ]\n",
            " ...\n",
            " [121.8 ]\n",
            " [120.3 ]\n",
            " [122.1 ]]\n"
          ],
          "name": "stdout"
        }
      ]
    },
    {
      "cell_type": "markdown",
      "metadata": {
        "id": "93tE9CLuMp6W"
      },
      "source": [
        "Splitting Dataset"
      ]
    },
    {
      "cell_type": "code",
      "metadata": {
        "colab": {
          "base_uri": "https://localhost:8080/"
        },
        "id": "2j9SbYpUMIUC",
        "outputId": "87642d33-8692-43d1-c23e-a4243c05b228"
      },
      "source": [
        "training_size=int(len(training_set)*0.65)\n",
        "test_size=len(training_set)-training_size\n",
        "train_data,test_data=training_set[0:training_size,:],training_set[training_size:len(training_set),:1]\n",
        "training_size,test_size"
      ],
      "execution_count": null,
      "outputs": [
        {
          "output_type": "execute_result",
          "data": {
            "text/plain": [
              "(1322, 713)"
            ]
          },
          "metadata": {},
          "execution_count": 24
        }
      ]
    },
    {
      "cell_type": "code",
      "metadata": {
        "colab": {
          "base_uri": "https://localhost:8080/"
        },
        "id": "s-moq5PuNFq4",
        "outputId": "71954f4f-cee9-45e8-c90c-cf893d810673"
      },
      "source": [
        "train_data"
      ],
      "execution_count": null,
      "outputs": [
        {
          "output_type": "execute_result",
          "data": {
            "text/plain": [
              "array([[234.05],\n",
              "       [234.55],\n",
              "       [240.  ],\n",
              "       ...,\n",
              "       [145.45],\n",
              "       [144.1 ],\n",
              "       [141.65]])"
            ]
          },
          "metadata": {},
          "execution_count": 32
        }
      ]
    },
    {
      "cell_type": "markdown",
      "metadata": {
        "id": "MF0e36SCPJIq"
      },
      "source": [
        "Reshaping"
      ]
    },
    {
      "cell_type": "code",
      "metadata": {
        "id": "mybdVip9O36s"
      },
      "source": [
        "X_train = []\n",
        "y_train = []\n",
        "for i in range(60, 2035):\n",
        "    X_train.append(training_set_scaled[i-60:i, 0])\n",
        "    y_train.append(training_set_scaled[i, 0])\n",
        "X_train, y_train = np.array(X_train), np.array(y_train)\n",
        "X_train = np.reshape(X_train, (X_train.shape[0], X_train.shape[1], 1))"
      ],
      "execution_count": null,
      "outputs": []
    },
    {
      "cell_type": "markdown",
      "metadata": {
        "id": "kYn66oMuPMwU"
      },
      "source": [
        "RNN"
      ]
    },
    {
      "cell_type": "code",
      "metadata": {
        "colab": {
          "base_uri": "https://localhost:8080/"
        },
        "id": "g0stjTCDPO4T",
        "outputId": "3a9c7bca-f272-463a-86e5-a04ba7b7c298"
      },
      "source": [
        "from keras.models import Sequential\n",
        "from keras.layers import Dense\n",
        "from keras.layers import LSTM\n",
        "from keras.layers import Dropout\n",
        "regressor = Sequential()  #first layer\n",
        "regressor.add(LSTM(units = 50, return_sequences = True, input_shape = (X_train.shape[1], 1)))\n",
        "regressor.add(Dropout(0.2))\n",
        "regressor.add(LSTM(units = 50, return_sequences = True))  #second layer\n",
        "regressor.add(Dropout(0.2))\n",
        "regressor.add(LSTM(units = 50, return_sequences = True))  #third layer\n",
        "regressor.add(Dropout(0.2))\n",
        "regressor.add(LSTM(units = 50)) #fourth layer\n",
        "regressor.add(Dropout(0.2))\n",
        "regressor.add(Dense(units = 1))   #output layer\n",
        "regressor.compile(optimizer = 'adam', loss = 'mean_squared_error')\n",
        "regressor.fit(X_train, y_train, epochs = 100, batch_size = 32)"
      ],
      "execution_count": null,
      "outputs": [
        {
          "output_type": "stream",
          "text": [
            "Epoch 1/100\n",
            "62/62 [==============================] - 14s 120ms/step - loss: 0.0113\n",
            "Epoch 2/100\n",
            "62/62 [==============================] - 7s 119ms/step - loss: 0.0030\n",
            "Epoch 3/100\n",
            "62/62 [==============================] - 7s 118ms/step - loss: 0.0031\n",
            "Epoch 4/100\n",
            "62/62 [==============================] - 7s 119ms/step - loss: 0.0027\n",
            "Epoch 5/100\n",
            "62/62 [==============================] - 7s 118ms/step - loss: 0.0026\n",
            "Epoch 6/100\n",
            "62/62 [==============================] - 7s 118ms/step - loss: 0.0022\n",
            "Epoch 7/100\n",
            "62/62 [==============================] - 7s 119ms/step - loss: 0.0020\n",
            "Epoch 8/100\n",
            "62/62 [==============================] - 7s 118ms/step - loss: 0.0023\n",
            "Epoch 9/100\n",
            "62/62 [==============================] - 7s 119ms/step - loss: 0.0022\n",
            "Epoch 10/100\n",
            "62/62 [==============================] - 8s 121ms/step - loss: 0.0019\n",
            "Epoch 11/100\n",
            "62/62 [==============================] - 7s 119ms/step - loss: 0.0019\n",
            "Epoch 12/100\n",
            "62/62 [==============================] - 7s 119ms/step - loss: 0.0020\n",
            "Epoch 13/100\n",
            "62/62 [==============================] - 7s 118ms/step - loss: 0.0018\n",
            "Epoch 14/100\n",
            "62/62 [==============================] - 7s 119ms/step - loss: 0.0016\n",
            "Epoch 15/100\n",
            "62/62 [==============================] - 7s 120ms/step - loss: 0.0017\n",
            "Epoch 16/100\n",
            "62/62 [==============================] - 7s 118ms/step - loss: 0.0016\n",
            "Epoch 17/100\n",
            "62/62 [==============================] - 7s 119ms/step - loss: 0.0016\n",
            "Epoch 18/100\n",
            "62/62 [==============================] - 7s 119ms/step - loss: 0.0015\n",
            "Epoch 19/100\n",
            "62/62 [==============================] - 7s 119ms/step - loss: 0.0015\n",
            "Epoch 20/100\n",
            "62/62 [==============================] - 7s 119ms/step - loss: 0.0014\n",
            "Epoch 21/100\n",
            "62/62 [==============================] - 7s 119ms/step - loss: 0.0014\n",
            "Epoch 22/100\n",
            "62/62 [==============================] - 7s 119ms/step - loss: 0.0015\n",
            "Epoch 23/100\n",
            "62/62 [==============================] - 7s 119ms/step - loss: 0.0015\n",
            "Epoch 24/100\n",
            "62/62 [==============================] - 7s 120ms/step - loss: 0.0015\n",
            "Epoch 25/100\n",
            "62/62 [==============================] - 7s 118ms/step - loss: 0.0014\n",
            "Epoch 26/100\n",
            "62/62 [==============================] - 7s 119ms/step - loss: 0.0014\n",
            "Epoch 27/100\n",
            "62/62 [==============================] - 7s 118ms/step - loss: 0.0012\n",
            "Epoch 28/100\n",
            "62/62 [==============================] - 7s 120ms/step - loss: 0.0012\n",
            "Epoch 29/100\n",
            "62/62 [==============================] - 7s 120ms/step - loss: 0.0010\n",
            "Epoch 30/100\n",
            "62/62 [==============================] - 7s 118ms/step - loss: 0.0012\n",
            "Epoch 31/100\n",
            "62/62 [==============================] - 7s 119ms/step - loss: 0.0013\n",
            "Epoch 32/100\n",
            "62/62 [==============================] - 7s 120ms/step - loss: 0.0011\n",
            "Epoch 33/100\n",
            "62/62 [==============================] - 7s 119ms/step - loss: 0.0011\n",
            "Epoch 34/100\n",
            "62/62 [==============================] - 7s 120ms/step - loss: 0.0011\n",
            "Epoch 35/100\n",
            "62/62 [==============================] - 7s 119ms/step - loss: 9.9004e-04\n",
            "Epoch 36/100\n",
            "62/62 [==============================] - 7s 119ms/step - loss: 0.0011\n",
            "Epoch 37/100\n",
            "62/62 [==============================] - 7s 119ms/step - loss: 0.0010\n",
            "Epoch 38/100\n",
            "62/62 [==============================] - 7s 120ms/step - loss: 0.0012\n",
            "Epoch 39/100\n",
            "62/62 [==============================] - 7s 119ms/step - loss: 8.9243e-04\n",
            "Epoch 40/100\n",
            "62/62 [==============================] - 7s 118ms/step - loss: 0.0010\n",
            "Epoch 41/100\n",
            "62/62 [==============================] - 7s 120ms/step - loss: 9.8889e-04\n",
            "Epoch 42/100\n",
            "62/62 [==============================] - 7s 120ms/step - loss: 9.3380e-04\n",
            "Epoch 43/100\n",
            "62/62 [==============================] - 8s 121ms/step - loss: 9.0342e-04\n",
            "Epoch 44/100\n",
            "62/62 [==============================] - 7s 120ms/step - loss: 8.0416e-04\n",
            "Epoch 45/100\n",
            "62/62 [==============================] - 7s 119ms/step - loss: 8.5996e-04\n",
            "Epoch 46/100\n",
            "62/62 [==============================] - 7s 119ms/step - loss: 9.6448e-04\n",
            "Epoch 47/100\n",
            "62/62 [==============================] - 8s 122ms/step - loss: 8.9237e-04\n",
            "Epoch 48/100\n",
            "62/62 [==============================] - 7s 119ms/step - loss: 8.0433e-04\n",
            "Epoch 49/100\n",
            "62/62 [==============================] - 7s 119ms/step - loss: 8.4600e-04\n",
            "Epoch 50/100\n",
            "62/62 [==============================] - 7s 119ms/step - loss: 8.6157e-04\n",
            "Epoch 51/100\n",
            "62/62 [==============================] - 7s 120ms/step - loss: 7.8385e-04\n",
            "Epoch 52/100\n",
            "62/62 [==============================] - 7s 119ms/step - loss: 8.6173e-04\n",
            "Epoch 53/100\n",
            "62/62 [==============================] - 7s 118ms/step - loss: 8.2568e-04\n",
            "Epoch 54/100\n",
            "62/62 [==============================] - 7s 119ms/step - loss: 8.3597e-04\n",
            "Epoch 55/100\n",
            "62/62 [==============================] - 7s 119ms/step - loss: 7.6376e-04\n",
            "Epoch 56/100\n",
            "62/62 [==============================] - 7s 120ms/step - loss: 9.4068e-04\n",
            "Epoch 57/100\n",
            "62/62 [==============================] - 7s 119ms/step - loss: 8.9485e-04\n",
            "Epoch 58/100\n",
            "62/62 [==============================] - 7s 120ms/step - loss: 7.8140e-04\n",
            "Epoch 59/100\n",
            "62/62 [==============================] - 7s 120ms/step - loss: 8.0559e-04\n",
            "Epoch 60/100\n",
            "62/62 [==============================] - 7s 119ms/step - loss: 7.6739e-04\n",
            "Epoch 61/100\n",
            "62/62 [==============================] - 7s 118ms/step - loss: 7.7989e-04\n",
            "Epoch 62/100\n",
            "62/62 [==============================] - 7s 118ms/step - loss: 7.8213e-04\n",
            "Epoch 63/100\n",
            "62/62 [==============================] - 7s 119ms/step - loss: 7.4628e-04\n",
            "Epoch 64/100\n",
            "62/62 [==============================] - 7s 120ms/step - loss: 7.2916e-04\n",
            "Epoch 65/100\n",
            "62/62 [==============================] - 7s 121ms/step - loss: 7.4015e-04\n",
            "Epoch 66/100\n",
            "62/62 [==============================] - 7s 119ms/step - loss: 7.0059e-04\n",
            "Epoch 67/100\n",
            "62/62 [==============================] - 7s 120ms/step - loss: 7.0191e-04\n",
            "Epoch 68/100\n",
            "62/62 [==============================] - 7s 120ms/step - loss: 7.1589e-04\n",
            "Epoch 69/100\n",
            "62/62 [==============================] - 7s 120ms/step - loss: 7.6064e-04\n",
            "Epoch 70/100\n",
            "62/62 [==============================] - 7s 120ms/step - loss: 6.1107e-04\n",
            "Epoch 71/100\n",
            "62/62 [==============================] - 7s 119ms/step - loss: 7.5882e-04\n",
            "Epoch 72/100\n",
            "62/62 [==============================] - 7s 120ms/step - loss: 7.3446e-04\n",
            "Epoch 73/100\n",
            "62/62 [==============================] - 7s 120ms/step - loss: 7.2537e-04\n",
            "Epoch 74/100\n",
            "62/62 [==============================] - 7s 120ms/step - loss: 7.7311e-04\n",
            "Epoch 75/100\n",
            "62/62 [==============================] - 7s 121ms/step - loss: 7.0302e-04\n",
            "Epoch 76/100\n",
            "62/62 [==============================] - 7s 118ms/step - loss: 6.6674e-04\n",
            "Epoch 77/100\n",
            "62/62 [==============================] - 8s 121ms/step - loss: 7.7330e-04\n",
            "Epoch 78/100\n",
            "62/62 [==============================] - 7s 120ms/step - loss: 7.4351e-04\n",
            "Epoch 79/100\n",
            "62/62 [==============================] - 7s 120ms/step - loss: 8.0360e-04\n",
            "Epoch 80/100\n",
            "62/62 [==============================] - 7s 119ms/step - loss: 6.8168e-04\n",
            "Epoch 81/100\n",
            "62/62 [==============================] - 8s 122ms/step - loss: 6.4410e-04\n",
            "Epoch 82/100\n",
            "62/62 [==============================] - 7s 120ms/step - loss: 5.8195e-04\n",
            "Epoch 83/100\n",
            "62/62 [==============================] - 7s 119ms/step - loss: 6.0600e-04\n",
            "Epoch 84/100\n",
            "62/62 [==============================] - 7s 118ms/step - loss: 7.9949e-04\n",
            "Epoch 85/100\n",
            "62/62 [==============================] - 7s 119ms/step - loss: 7.2587e-04\n",
            "Epoch 86/100\n",
            "62/62 [==============================] - 7s 120ms/step - loss: 7.7242e-04\n",
            "Epoch 87/100\n",
            "62/62 [==============================] - 7s 118ms/step - loss: 6.3700e-04\n",
            "Epoch 88/100\n",
            "62/62 [==============================] - 7s 120ms/step - loss: 6.0442e-04\n",
            "Epoch 89/100\n",
            "62/62 [==============================] - 7s 120ms/step - loss: 6.7768e-04\n",
            "Epoch 90/100\n",
            "62/62 [==============================] - 7s 118ms/step - loss: 6.1164e-04\n",
            "Epoch 91/100\n",
            "62/62 [==============================] - 7s 120ms/step - loss: 5.8859e-04\n",
            "Epoch 92/100\n",
            "62/62 [==============================] - 7s 120ms/step - loss: 5.6184e-04\n",
            "Epoch 93/100\n",
            "62/62 [==============================] - 7s 120ms/step - loss: 7.2750e-04\n",
            "Epoch 94/100\n",
            "62/62 [==============================] - 7s 119ms/step - loss: 6.5855e-04\n",
            "Epoch 95/100\n",
            "62/62 [==============================] - 7s 119ms/step - loss: 6.2187e-04\n",
            "Epoch 96/100\n",
            "62/62 [==============================] - 7s 120ms/step - loss: 6.4852e-04\n",
            "Epoch 97/100\n",
            "62/62 [==============================] - 7s 119ms/step - loss: 5.5545e-04\n",
            "Epoch 98/100\n",
            "62/62 [==============================] - 8s 121ms/step - loss: 7.2615e-04\n",
            "Epoch 99/100\n",
            "62/62 [==============================] - 7s 120ms/step - loss: 6.7430e-04\n",
            "Epoch 100/100\n",
            "62/62 [==============================] - 7s 120ms/step - loss: 5.5672e-04\n"
          ],
          "name": "stdout"
        },
        {
          "output_type": "execute_result",
          "data": {
            "text/plain": [
              "<keras.callbacks.History at 0x7f8cb18b9a50>"
            ]
          },
          "metadata": {},
          "execution_count": 28
        }
      ]
    },
    {
      "cell_type": "markdown",
      "metadata": {
        "id": "vXyMCGizUfAw"
      },
      "source": [
        "Visualizing"
      ]
    },
    {
      "cell_type": "code",
      "metadata": {
        "colab": {
          "base_uri": "https://localhost:8080/",
          "height": 295
        },
        "id": "NhQKOefvUkgV",
        "outputId": "4a5bad12-55e2-4ca0-bd5b-678a67da56e7"
      },
      "source": [
        "dataset_test = pd.read_csv('tatatest.csv')\n",
        "real_price_prediction = dataset_test.iloc[:, 1:2].values\n",
        "dataset_total = pd.concat((data['Open'], dataset_test['Open']), axis = 0)\n",
        "inputs = dataset_total[len(dataset_total) - len(dataset_test) - 60:].values\n",
        "inputs = inputs.reshape(-1,1)\n",
        "inputs = sc.transform(inputs)\n",
        "X_test = []\n",
        "for i in range(60, 76):\n",
        "    X_test.append(inputs[i-60:i, 0])\n",
        "X_test = np.array(X_test)\n",
        "X_test = np.reshape(X_test, (X_test.shape[0], X_test.shape[1], 1))\n",
        "predicted_stock_price = regressor.predict(X_test)\n",
        "predicted_stock_price = sc.inverse_transform(predicted_stock_price)\n",
        "plt.plot(real_price_prediction, color = 'red', label = 'Real TATA Stock Price')\n",
        "plt.plot(predicted_stock_price, color = 'blue', label = 'Predicted TAT Stock Price')\n",
        "plt.title('TATA Stock Price Prediction')\n",
        "plt.xlabel('Time')\n",
        "plt.ylabel('TATA Stock Price')\n",
        "plt.legend()\n",
        "plt.show()"
      ],
      "execution_count": null,
      "outputs": [
        {
          "output_type": "display_data",
          "data": {
            "image/png": "[encoded data removed]",
            "text/plain": [
              "<Figure size 432x288 with 1 Axes>"
            ]
          },
          "metadata": {
            "needs_background": "light"
          }
        }
      ]
    }
  ]
}